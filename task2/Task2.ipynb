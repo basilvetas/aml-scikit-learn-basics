{
 "cells": [
  {
   "cell_type": "markdown",
   "metadata": {},
   "source": [
    "### Imports"
   ]
  },
  {
   "cell_type": "code",
   "execution_count": 17,
   "metadata": {},
   "outputs": [],
   "source": [
    "import numpy as np\n",
    "import pandas as pd\n",
    "import matplotlib.pyplot as plt\n",
    "import seaborn as sns\n",
    "import missingno as msno\n",
    "import warnings\n",
    "from sklearn.exceptions import DataConversionWarning, ConvergenceWarning\n",
    "\n",
    "# 2.2\n",
    "from sklearn.impute import SimpleImputer\n",
    "from sklearn.linear_model import LogisticRegression\n",
    "from sklearn.svm import LinearSVC\n",
    "from sklearn.neighbors.nearest_centroid import NearestCentroid\n",
    "from sklearn.model_selection import cross_val_score\n",
    "from sklearn.pipeline import make_pipeline\n",
    "from sklearn.preprocessing import OneHotEncoder, StandardScaler\n",
    "from sklearn.compose import make_column_transformer\n",
    "\n",
    "# 2.3\n",
    "from sklearn.model_selection import GridSearchCV\n",
    "\n",
    "# 2.4\n",
    "from sklearn.model_selection import KFold\n"
   ]
  },
  {
   "cell_type": "markdown",
   "metadata": {},
   "source": [
    "### Options"
   ]
  },
  {
   "cell_type": "code",
   "execution_count": 18,
   "metadata": {},
   "outputs": [],
   "source": [
    "pd.options.display.max_columns = None\n",
    "pd.options.display.max_rows = None"
   ]
  },
  {
   "cell_type": "code",
   "execution_count": 19,
   "metadata": {},
   "outputs": [],
   "source": [
    "warnings.filterwarnings(action='ignore', category=DataConversionWarning)\n",
    "warnings.filterwarnings(action='ignore', category=ConvergenceWarning)"
   ]
  },
  {
   "cell_type": "markdown",
   "metadata": {},
   "source": [
    "### Load Data"
   ]
  },
  {
   "cell_type": "code",
   "execution_count": 20,
   "metadata": {},
   "outputs": [],
   "source": [
    "# defaults excluding NA\n",
    "na_vals = ['', '#N/A', '#N/A N/A', '#NA', '-1.#IND', '-1.#QNAN', '-NaN', '-nan', \n",
    "           '1.#IND', '1.#QNAN', 'N/A', 'NULL', 'NaN', 'n/a', 'nan', 'null']\n",
    "\n",
    "df_raw = pd.read_csv('WA_Fn-UseC_-Telco-Customer-Churn.csv', keep_default_na=False, na_values=na_vals)\n",
    "\n",
    "df_raw.replace('NA', 'NA_cat', inplace=True) # NA is a category"
   ]
  },
  {
   "cell_type": "code",
   "execution_count": 21,
   "metadata": {},
   "outputs": [
    {
     "data": {
      "text/html": [
       "<div>\n",
       "<style scoped>\n",
       "    .dataframe tbody tr th:only-of-type {\n",
       "        vertical-align: middle;\n",
       "    }\n",
       "\n",
       "    .dataframe tbody tr th {\n",
       "        vertical-align: top;\n",
       "    }\n",
       "\n",
       "    .dataframe thead th {\n",
       "        text-align: right;\n",
       "    }\n",
       "</style>\n",
       "<table border=\"1\" class=\"dataframe\">\n",
       "  <thead>\n",
       "    <tr style=\"text-align: right;\">\n",
       "      <th></th>\n",
       "      <th>customerID</th>\n",
       "      <th>gender</th>\n",
       "      <th>SeniorCitizen</th>\n",
       "      <th>Partner</th>\n",
       "      <th>Dependents</th>\n",
       "      <th>tenure</th>\n",
       "      <th>PhoneService</th>\n",
       "      <th>MultipleLines</th>\n",
       "      <th>InternetService</th>\n",
       "      <th>OnlineSecurity</th>\n",
       "      <th>OnlineBackup</th>\n",
       "      <th>DeviceProtection</th>\n",
       "      <th>TechSupport</th>\n",
       "      <th>StreamingTV</th>\n",
       "      <th>StreamingMovies</th>\n",
       "      <th>Contract</th>\n",
       "      <th>PaperlessBilling</th>\n",
       "      <th>PaymentMethod</th>\n",
       "      <th>MonthlyCharges</th>\n",
       "      <th>TotalCharges</th>\n",
       "      <th>Churn</th>\n",
       "    </tr>\n",
       "  </thead>\n",
       "  <tbody>\n",
       "    <tr>\n",
       "      <th>0</th>\n",
       "      <td>7590-VHVEG</td>\n",
       "      <td>Female</td>\n",
       "      <td>0</td>\n",
       "      <td>Yes</td>\n",
       "      <td>No</td>\n",
       "      <td>1</td>\n",
       "      <td>No</td>\n",
       "      <td>No phone service</td>\n",
       "      <td>DSL</td>\n",
       "      <td>No</td>\n",
       "      <td>Yes</td>\n",
       "      <td>No</td>\n",
       "      <td>No</td>\n",
       "      <td>No</td>\n",
       "      <td>No</td>\n",
       "      <td>Month-to-month</td>\n",
       "      <td>Yes</td>\n",
       "      <td>Electronic check</td>\n",
       "      <td>29.85</td>\n",
       "      <td>29.85</td>\n",
       "      <td>No</td>\n",
       "    </tr>\n",
       "    <tr>\n",
       "      <th>1</th>\n",
       "      <td>5575-GNVDE</td>\n",
       "      <td>Male</td>\n",
       "      <td>0</td>\n",
       "      <td>No</td>\n",
       "      <td>No</td>\n",
       "      <td>34</td>\n",
       "      <td>Yes</td>\n",
       "      <td>No</td>\n",
       "      <td>DSL</td>\n",
       "      <td>Yes</td>\n",
       "      <td>No</td>\n",
       "      <td>Yes</td>\n",
       "      <td>No</td>\n",
       "      <td>No</td>\n",
       "      <td>No</td>\n",
       "      <td>One year</td>\n",
       "      <td>No</td>\n",
       "      <td>Mailed check</td>\n",
       "      <td>56.95</td>\n",
       "      <td>1889.5</td>\n",
       "      <td>No</td>\n",
       "    </tr>\n",
       "    <tr>\n",
       "      <th>2</th>\n",
       "      <td>3668-QPYBK</td>\n",
       "      <td>Male</td>\n",
       "      <td>0</td>\n",
       "      <td>No</td>\n",
       "      <td>No</td>\n",
       "      <td>2</td>\n",
       "      <td>Yes</td>\n",
       "      <td>No</td>\n",
       "      <td>DSL</td>\n",
       "      <td>Yes</td>\n",
       "      <td>Yes</td>\n",
       "      <td>No</td>\n",
       "      <td>No</td>\n",
       "      <td>No</td>\n",
       "      <td>No</td>\n",
       "      <td>Month-to-month</td>\n",
       "      <td>Yes</td>\n",
       "      <td>Mailed check</td>\n",
       "      <td>53.85</td>\n",
       "      <td>108.15</td>\n",
       "      <td>Yes</td>\n",
       "    </tr>\n",
       "    <tr>\n",
       "      <th>3</th>\n",
       "      <td>7795-CFOCW</td>\n",
       "      <td>Male</td>\n",
       "      <td>0</td>\n",
       "      <td>No</td>\n",
       "      <td>No</td>\n",
       "      <td>45</td>\n",
       "      <td>No</td>\n",
       "      <td>No phone service</td>\n",
       "      <td>DSL</td>\n",
       "      <td>Yes</td>\n",
       "      <td>No</td>\n",
       "      <td>Yes</td>\n",
       "      <td>Yes</td>\n",
       "      <td>No</td>\n",
       "      <td>No</td>\n",
       "      <td>One year</td>\n",
       "      <td>No</td>\n",
       "      <td>Bank transfer (automatic)</td>\n",
       "      <td>42.30</td>\n",
       "      <td>1840.75</td>\n",
       "      <td>No</td>\n",
       "    </tr>\n",
       "    <tr>\n",
       "      <th>4</th>\n",
       "      <td>9237-HQITU</td>\n",
       "      <td>Female</td>\n",
       "      <td>0</td>\n",
       "      <td>No</td>\n",
       "      <td>No</td>\n",
       "      <td>2</td>\n",
       "      <td>Yes</td>\n",
       "      <td>No</td>\n",
       "      <td>Fiber optic</td>\n",
       "      <td>No</td>\n",
       "      <td>No</td>\n",
       "      <td>No</td>\n",
       "      <td>No</td>\n",
       "      <td>No</td>\n",
       "      <td>No</td>\n",
       "      <td>Month-to-month</td>\n",
       "      <td>Yes</td>\n",
       "      <td>Electronic check</td>\n",
       "      <td>70.70</td>\n",
       "      <td>151.65</td>\n",
       "      <td>Yes</td>\n",
       "    </tr>\n",
       "  </tbody>\n",
       "</table>\n",
       "</div>"
      ],
      "text/plain": [
       "   customerID  gender  SeniorCitizen Partner Dependents  tenure PhoneService  \\\n",
       "0  7590-VHVEG  Female              0     Yes         No       1           No   \n",
       "1  5575-GNVDE    Male              0      No         No      34          Yes   \n",
       "2  3668-QPYBK    Male              0      No         No       2          Yes   \n",
       "3  7795-CFOCW    Male              0      No         No      45           No   \n",
       "4  9237-HQITU  Female              0      No         No       2          Yes   \n",
       "\n",
       "      MultipleLines InternetService OnlineSecurity OnlineBackup  \\\n",
       "0  No phone service             DSL             No          Yes   \n",
       "1                No             DSL            Yes           No   \n",
       "2                No             DSL            Yes          Yes   \n",
       "3  No phone service             DSL            Yes           No   \n",
       "4                No     Fiber optic             No           No   \n",
       "\n",
       "  DeviceProtection TechSupport StreamingTV StreamingMovies        Contract  \\\n",
       "0               No          No          No              No  Month-to-month   \n",
       "1              Yes          No          No              No        One year   \n",
       "2               No          No          No              No  Month-to-month   \n",
       "3              Yes         Yes          No              No        One year   \n",
       "4               No          No          No              No  Month-to-month   \n",
       "\n",
       "  PaperlessBilling              PaymentMethod  MonthlyCharges TotalCharges  \\\n",
       "0              Yes           Electronic check           29.85        29.85   \n",
       "1               No               Mailed check           56.95       1889.5   \n",
       "2              Yes               Mailed check           53.85       108.15   \n",
       "3               No  Bank transfer (automatic)           42.30      1840.75   \n",
       "4              Yes           Electronic check           70.70       151.65   \n",
       "\n",
       "  Churn  \n",
       "0    No  \n",
       "1    No  \n",
       "2   Yes  \n",
       "3    No  \n",
       "4   Yes  "
      ]
     },
     "execution_count": 21,
     "metadata": {},
     "output_type": "execute_result"
    }
   ],
   "source": [
    "df_raw.head()"
   ]
  },
  {
   "cell_type": "markdown",
   "metadata": {},
   "source": [
    "### Organize Features"
   ]
  },
  {
   "cell_type": "code",
   "execution_count": 22,
   "metadata": {},
   "outputs": [
    {
     "data": {
      "text/plain": [
       "True"
      ]
     },
     "execution_count": 22,
     "metadata": {},
     "output_type": "execute_result"
    }
   ],
   "source": [
    "# per the TA answer in this post I treat everything with dtype == object as categorical and \n",
    "# everything with dtype != object as continuous: https://piazza.com/class/jop0ywdqsmv6r3?cid=179\n",
    "msk = (df_raw.dtypes == object)\n",
    "categorical = msk[msk].index.tolist()\n",
    "continuous = msk[~msk].index.tolist()\n",
    "categorical.remove('Churn')\n",
    "target = ['Churn']\n",
    "\n",
    "len(categorical) + len(continuous) + len(target) == df_raw.shape[1]\n"
   ]
  },
  {
   "cell_type": "code",
   "execution_count": 23,
   "metadata": {},
   "outputs": [],
   "source": [
    "df = df_raw.copy()"
   ]
  },
  {
   "cell_type": "code",
   "execution_count": 24,
   "metadata": {},
   "outputs": [
    {
     "data": {
      "text/plain": [
       "<matplotlib.axes._subplots.AxesSubplot at 0x131c72048>"
      ]
     },
     "execution_count": 24,
     "metadata": {},
     "output_type": "execute_result"
    },
    {
     "data": {
      "image/png": "[encoded data removed]",
      "text/plain": [
       "<Figure size 1800x720 with 2 Axes>"
      ]
     },
     "metadata": {
      "needs_background": "light"
     },
     "output_type": "display_data"
    }
   ],
   "source": [
    "msno.matrix(df)"
   ]
  },
  {
   "cell_type": "markdown",
   "metadata": {},
   "source": [
    "### 2.1 Visualize the univariate distribution of each continuous feature, and the distribution of the target."
   ]
  },
  {
   "cell_type": "code",
   "execution_count": 25,
   "metadata": {},
   "outputs": [
    {
     "data": {
      "image/png": "[encoded data removed]",
      "text/plain": [
       "<Figure size 432x288 with 1 Axes>"
      ]
     },
     "metadata": {
      "needs_background": "light"
     },
     "output_type": "display_data"
    },
    {
     "data": {
      "image/png": "[encoded data removed]",
      "text/plain": [
       "<Figure size 432x288 with 1 Axes>"
      ]
     },
     "metadata": {
      "needs_background": "light"
     },
     "output_type": "display_data"
    },
    {
     "data": {
      "image/png": "[encoded data removed]",
      "text/plain": [
       "<Figure size 432x288 with 1 Axes>"
      ]
     },
     "metadata": {
      "needs_background": "light"
     },
     "output_type": "display_data"
    }
   ],
   "source": [
    "for col in continuous:\n",
    "    df[col].plot(kind='hist', title=col)\n",
    "    plt.show()"
   ]
  },
  {
   "cell_type": "code",
   "execution_count": 26,
   "metadata": {},
   "outputs": [
    {
     "data": {
      "image/png": "[encoded data removed]",
      "text/plain": [
       "<Figure size 432x288 with 1 Axes>"
      ]
     },
     "metadata": {
      "needs_background": "light"
     },
     "output_type": "display_data"
    }
   ],
   "source": [
    "sns.barplot(x=df['Churn'].value_counts().index.tolist(), y=df['Churn'].value_counts().tolist())\n",
    "plt.title(f'Churn')\n",
    "plt.show()"
   ]
  },
  {
   "cell_type": "markdown",
   "metadata": {},
   "source": [
    "We appear to have imbalanced classes in our target variable. There are methods for handling this such as weighting and subsampling but we were not asked to address this so I have omitted dealing with the imbalanced classes for this assignment."
   ]
  },
  {
   "cell_type": "markdown",
   "metadata": {},
   "source": [
    "### 2.2 Split data into training and test set. Build a pipeline for dealing with categorical variables. Evaluate Logistic Regression, linear support vector machines and nearest centroids using cross-validation. How different are the results? How does scaling the continuous features with StandardScaler influence the results?"
   ]
  },
  {
   "cell_type": "code",
   "execution_count": 34,
   "metadata": {},
   "outputs": [],
   "source": [
    "df_train = df.sample(frac=.9)\n",
    "df_test = df[~df.index.isin(df_train.index.tolist())]"
   ]
  },
  {
   "cell_type": "code",
   "execution_count": 35,
   "metadata": {},
   "outputs": [],
   "source": [
    "preprocess = make_column_transformer(\n",
    "    (make_pipeline(SimpleImputer(strategy='mean'), \n",
    "                   StandardScaler()), continuous),\n",
    "    (make_pipeline(SimpleImputer(strategy='most_frequent'), \n",
    "                   OneHotEncoder(handle_unknown='ignore', sparse=False)), categorical),\n",
    "    remainder='passthrough'\n",
    ")\n",
    "pipes = {}"
   ]
  },
  {
   "cell_type": "code",
   "execution_count": 36,
   "metadata": {},
   "outputs": [],
   "source": [
    "pipes['logistic'] = make_pipeline(preprocess, LogisticRegression(solver='liblinear'))\n",
    "pipes['svm'] = make_pipeline(preprocess, LinearSVC())\n",
    "pipes['nc'] = make_pipeline(preprocess, NearestCentroid())"
   ]
  },
  {
   "cell_type": "code",
   "execution_count": 37,
   "metadata": {},
   "outputs": [],
   "source": [
    "mean_scores = {}\n",
    "X_train = df_train.drop(['Churn'], axis=1)\n",
    "y_train = df_train['Churn']"
   ]
  },
  {
   "cell_type": "code",
   "execution_count": 38,
   "metadata": {},
   "outputs": [],
   "source": [
    "for name, pipe in pipes.items():\n",
    "    scores = cross_val_score(pipe, X_train, y_train, cv=5)\n",
    "    mean_scores[name] = np.mean(scores)"
   ]
  },
  {
   "cell_type": "code",
   "execution_count": 39,
   "metadata": {},
   "outputs": [
    {
     "data": {
      "text/plain": [
       "{'logistic': 0.8034359969481315,\n",
       " 'svm': 0.8009128344245389,\n",
       " 'nc': 0.7248781165863183}"
      ]
     },
     "execution_count": 39,
     "metadata": {},
     "output_type": "execute_result"
    }
   ],
   "source": [
    "mean_scores"
   ]
  },
  {
   "cell_type": "markdown",
   "metadata": {},
   "source": [
    "The logistic regression and SVM are relatively similiar.  Without scaling, logistic is better but with scaling, the SVM and logistic regression are about the same.  While scaling slightly improves the Nearest Centroid, in both cases it performs quite a bit worse than logistic regression or SVM.\n",
    "\n",
    "#### without scaling\n",
    "* 'logistic': 0.8031242736433561,\n",
    "* 'svm': 0.7602235485292081,\n",
    "* 'nc': 0.7199871588616393\n",
    "\n",
    "#### with scaling\n",
    "* 'logistic': 0.8034359969481315,\n",
    "* 'svm': 0.8009128344245389,\n",
    "* 'nc': 0.7248781165863183"
   ]
  },
  {
   "cell_type": "markdown",
   "metadata": {},
   "source": [
    "### 2.3 Tune the parameters using GridSearchCV. Do the results improve? Visualize the performance as function of the parameters for all three models."
   ]
  },
  {
   "cell_type": "code",
   "execution_count": 40,
   "metadata": {},
   "outputs": [],
   "source": [
    "X_test = df_test.drop(['Churn'], axis=1)\n",
    "y_test = df_test['Churn']"
   ]
  },
  {
   "cell_type": "code",
   "execution_count": 41,
   "metadata": {},
   "outputs": [
    {
     "name": "stdout",
     "output_type": "stream",
     "text": [
      "{'logisticregression__C': 3.1622776601683795}\n",
      "0.8050165641268339\n",
      "0.7926136363636364\n"
     ]
    }
   ],
   "source": [
    "logistic_params = {'logisticregression__C': np.logspace(-3, 3, 13)}\n",
    "logistic_grid = GridSearchCV(pipes['logistic'], logistic_params, cv=5, return_train_score=True)\n",
    "logistic_grid.fit(X_train, y_train)\n",
    "print(logistic_grid.best_params_)\n",
    "print(logistic_grid.best_score_)\n",
    "print(logistic_grid.score(X_test, y_test))"
   ]
  },
  {
   "cell_type": "code",
   "execution_count": 42,
   "metadata": {},
   "outputs": [
    {
     "name": "stdout",
     "output_type": "stream",
     "text": [
      "{'linearsvc__C': 0.0031622776601683794}\n",
      "0.804070042593469\n",
      "0.796875\n"
     ]
    }
   ],
   "source": [
    "svm_params = {'linearsvc__C': np.logspace(-3, 3, 13)}\n",
    "svm_grid = GridSearchCV(pipes['svm'], svm_params, cv=5, return_train_score=True)\n",
    "svm_grid.fit(X_train, y_train)\n",
    "print(svm_grid.best_params_)\n",
    "print(svm_grid.best_score_)\n",
    "print(svm_grid.score(X_test, y_test))"
   ]
  },
  {
   "cell_type": "code",
   "execution_count": 43,
   "metadata": {},
   "outputs": [
    {
     "name": "stdout",
     "output_type": "stream",
     "text": [
      "{'nearestcentroid__shrink_threshold': 31.622776601683793}\n",
      "0.7368670137245622\n",
      "0.6619318181818182\n"
     ]
    }
   ],
   "source": [
    "nc_params = {'nearestcentroid__shrink_threshold': np.logspace(-3, 3, 13)}\n",
    "nc_grid = GridSearchCV(pipes['nc'], nc_params, cv=5, return_train_score=True)\n",
    "nc_grid.fit(X_train, y_train)\n",
    "print(nc_grid.best_params_)\n",
    "print(nc_grid.best_score_)\n",
    "print(nc_grid.score(X_test, y_test))"
   ]
  },
  {
   "cell_type": "markdown",
   "metadata": {},
   "source": [
    "The results improve with GridSearchCV for all three, but not by much. The best CV score for Logistic Regression improves slightly from 0.803 to 0.805. SVM slightly from 0.800 to 0.804. And Nearest Centroid from 0.724 to 0.736.  Nearest Centroid seems to improve the most, however with a larger search space the results for all through could possibly improve even more."
   ]
  },
  {
   "cell_type": "code",
   "execution_count": 44,
   "metadata": {},
   "outputs": [],
   "source": [
    "logistic_df = pd.melt(pd.DataFrame({\n",
    "    'C': logistic_grid.cv_results_['param_logisticregression__C'].tolist(),\n",
    "    'Training Score': logistic_grid.cv_results_['mean_train_score'].tolist(),\n",
    "    'Cross-validation Score': logistic_grid.cv_results_['mean_test_score'].tolist()\n",
    "    \n",
    "}), id_vars=['C'])"
   ]
  },
  {
   "cell_type": "code",
   "execution_count": 45,
   "metadata": {},
   "outputs": [
    {
     "data": {
      "image/png": "[encoded data removed]",
      "text/plain": [
       "<Figure size 864x576 with 1 Axes>"
      ]
     },
     "metadata": {
      "needs_background": "light"
     },
     "output_type": "display_data"
    }
   ],
   "source": [
    "plt.figure(figsize=(12, 8))\n",
    "ax = sns.lineplot(x='C', y='value', hue='variable', data=logistic_df)\n",
    "handles, labels = ax.get_legend_handles_labels()\n",
    "ax.legend(handles=handles[1:], labels=labels[1:])\n",
    "plt.title('Validation Curve with Logistic Regression')\n",
    "plt.show()"
   ]
  },
  {
   "cell_type": "code",
   "execution_count": 46,
   "metadata": {},
   "outputs": [],
   "source": [
    "svm_df = pd.melt(pd.DataFrame({\n",
    "    'C': svm_grid.cv_results_['param_linearsvc__C'].tolist(),\n",
    "    'Training Score': svm_grid.cv_results_['mean_train_score'].tolist(),\n",
    "    'Cross-validation Score': svm_grid.cv_results_['mean_test_score'].tolist()\n",
    "    \n",
    "}), id_vars=['C'])"
   ]
  },
  {
   "cell_type": "code",
   "execution_count": 47,
   "metadata": {},
   "outputs": [
    {
     "data": {
      "image/png": "[encoded data removed]",
      "text/plain": [
       "<Figure size 864x576 with 1 Axes>"
      ]
     },
     "metadata": {
      "needs_background": "light"
     },
     "output_type": "display_data"
    }
   ],
   "source": [
    "plt.figure(figsize=(12, 8))\n",
    "ax = sns.lineplot(x='C', y='value', hue='variable', data=svm_df)\n",
    "handles, labels = ax.get_legend_handles_labels()\n",
    "ax.legend(handles=handles[1:], labels=labels[1:])\n",
    "plt.title('Validation Curve with Linear Support Vector Machine')\n",
    "plt.show()"
   ]
  },
  {
   "cell_type": "code",
   "execution_count": 48,
   "metadata": {},
   "outputs": [],
   "source": [
    "nc_df = pd.melt(pd.DataFrame({\n",
    "    'shrinkage': nc_grid.cv_results_['param_nearestcentroid__shrink_threshold'].tolist(),\n",
    "    'Training Score': nc_grid.cv_results_['mean_train_score'].tolist(),\n",
    "    'Cross-validation Score': nc_grid.cv_results_['mean_test_score'].tolist()\n",
    "    \n",
    "}), id_vars=['shrinkage'])"
   ]
  },
  {
   "cell_type": "code",
   "execution_count": 49,
   "metadata": {},
   "outputs": [
    {
     "data": {
      "image/png": "[encoded data removed]",
      "text/plain": [
       "<Figure size 864x576 with 1 Axes>"
      ]
     },
     "metadata": {
      "needs_background": "light"
     },
     "output_type": "display_data"
    }
   ],
   "source": [
    "plt.figure(figsize=(12, 8))\n",
    "ax = sns.lineplot(x='shrinkage', y='value', hue='variable', data=nc_df)\n",
    "handles, labels = ax.get_legend_handles_labels()\n",
    "ax.legend(handles=handles[1:], labels=labels[1:])\n",
    "plt.title('Validation Curve with Nearest Centroid')\n",
    "plt.show()"
   ]
  },
  {
   "cell_type": "markdown",
   "metadata": {},
   "source": [
    "### 2.4 Change the cross-validation strategy from 'stratified k-fold' to 'kfold' with shuffling. Do the parameters that are found change? Do they change if you change the random seed of the shuffling? Or if you change the random state of the split into training and test data?\n",
    "\n"
   ]
  },
  {
   "cell_type": "code",
   "execution_count": 62,
   "metadata": {},
   "outputs": [],
   "source": [
    "df_train_seed = df.sample(frac=.9, random_state=42)\n",
    "df_test_seed = df[~df.index.isin(df_train.index.tolist())]\n",
    "\n",
    "X_train_seed = df_train_seed.drop(['Churn'], axis=1)\n",
    "y_train_seed = df_train_seed['Churn']\n",
    "\n",
    "X_test_seed = df_test_seed.drop(['Churn'], axis=1)\n",
    "y_test_seed = df_test_seed['Churn']\n",
    "\n",
    "k_fold = KFold(n_splits=5, shuffle=True, random_state=1)"
   ]
  },
  {
   "cell_type": "code",
   "execution_count": 63,
   "metadata": {},
   "outputs": [
    {
     "name": "stdout",
     "output_type": "stream",
     "text": [
      "{'logisticregression__C': 0.1}\n",
      "0.8039122890045749\n",
      "0.8139204545454546\n"
     ]
    }
   ],
   "source": [
    "logistic_params = {'logisticregression__C': np.logspace(-3, 3, 13)}\n",
    "logistic_grid = GridSearchCV(pipes['logistic'], logistic_params, cv=k_fold, return_train_score=True)\n",
    "logistic_grid.fit(X_train_seed, y_train_seed)\n",
    "print(logistic_grid.best_params_)\n",
    "print(logistic_grid.best_score_)\n",
    "print(logistic_grid.score(X_test_seed, y_test_seed))"
   ]
  },
  {
   "cell_type": "code",
   "execution_count": 64,
   "metadata": {},
   "outputs": [
    {
     "name": "stdout",
     "output_type": "stream",
     "text": [
      "{'linearsvc__C': 0.001}\n",
      "0.7368670137245622\n",
      "0.7144886363636364\n"
     ]
    }
   ],
   "source": [
    "svm_params = {'linearsvc__C': np.logspace(-3, 3, 13)}\n",
    "svm_grid = GridSearchCV(pipes['svm'], svm_params, cv=k_fold, return_train_score=True)\n",
    "svm_grid.fit(X_train_seed, y_train)\n",
    "print(svm_grid.best_params_)\n",
    "print(svm_grid.best_score_)\n",
    "print(svm_grid.score(X_test_seed, y_test_seed))"
   ]
  },
  {
   "cell_type": "code",
   "execution_count": 65,
   "metadata": {},
   "outputs": [
    {
     "name": "stdout",
     "output_type": "stream",
     "text": [
      "{'nearestcentroid__shrink_threshold': 31.622776601683793}\n",
      "0.7321344060577378\n",
      "0.6619318181818182\n"
     ]
    }
   ],
   "source": [
    "nc_params = {'nearestcentroid__shrink_threshold': np.logspace(-3, 3, 13)}\n",
    "nc_grid = GridSearchCV(pipes['nc'], nc_params, cv=k_fold, return_train_score=True)\n",
    "nc_grid.fit(X_train_seed, y_train_seed)\n",
    "print(nc_grid.best_params_)\n",
    "print(nc_grid.best_score_)\n",
    "print(nc_grid.score(X_test_seed, y_test_seed))"
   ]
  },
  {
   "cell_type": "markdown",
   "metadata": {},
   "source": [
    "In general, the parameters for Nearest Centroid do not appears to change regardless of the cross validation strategy or random seeds.  However, the parameters for Logistic Regression and SVM appear to change both depending on the cross validation strategy as well as the random seeds for splitting and for shuffling. A few examples are below for different cross validation strategies and random seeds. However, you will see that in this example the SVM parameter doesn't change when only the shuffle random seed is changed, meaning sometimes even if the seed is different it apparently may find the same parameters."
   ]
  },
  {
   "cell_type": "markdown",
   "metadata": {},
   "source": [
    "#### Stratefied K-fold\n",
    "\n",
    "* Logistic Regression C: 3.1622776601683795\n",
    "* Support Vector Machine C: 0.0031622776601683794\n",
    "* Nearest Centroid Shrink: 31.622776601683793"
   ]
  },
  {
   "cell_type": "markdown",
   "metadata": {},
   "source": [
    "#### K-fold, Split Random Seed 42, Shuffle Random Seed 42\n",
    "\n",
    "* Logistic Regression C: 1.0\n",
    "* Support Vector Machine C: 0.001\n",
    "* Nearest Centroid Shrink: 31.622776601683793"
   ]
  },
  {
   "cell_type": "markdown",
   "metadata": {},
   "source": [
    "#### K-fold, Split Random Seed 1, Shuffle Random Seed 42\n",
    "\n",
    "* Logistic Regression C: 0.01\n",
    "* Support Vector Machine C: 0.1\n",
    "* Nearest Centroid Shrink: 31.622776601683793"
   ]
  },
  {
   "cell_type": "markdown",
   "metadata": {},
   "source": [
    "#### K-fold, Split Random Seed 42, Shuffle Random Seed 1\n",
    "\n",
    "* Logistic Regression C: 0.1\n",
    "* Support Vector Machine C: 0.001\n",
    "* Nearest Centroid Shrink: 31.622776601683793"
   ]
  },
  {
   "cell_type": "markdown",
   "metadata": {},
   "source": [
    "### 2.5 Visualize the coefficients for LogisticRegression and Linear Support Vector Machines using hyper-parameters that performed well in the grid-search."
   ]
  },
  {
   "cell_type": "code",
   "execution_count": 66,
   "metadata": {},
   "outputs": [
    {
     "name": "stdout",
     "output_type": "stream",
     "text": [
      "True\n"
     ]
    }
   ],
   "source": [
    "log_res = logistic_grid.best_estimator_.named_steps['logisticregression']\n",
    "logistic_coefficients = log_res.coef_.flatten().tolist()\n",
    "\n",
    "col_trans = logistic_grid.best_estimator_.named_steps['columntransformer']\n",
    "logistic_ohe = col_trans.transformers_[1][1].steps[1][1].get_feature_names().tolist()\n",
    "\n",
    "logistic_feature_names = continuous + logistic_ohe\n",
    "print(len(logistic_feature_names) == len(logistic_coefficients))\n",
    "\n",
    "logistic_feature_importance = dict(zip(logistic_feature_names, logistic_coefficients))"
   ]
  },
  {
   "cell_type": "code",
   "execution_count": 67,
   "metadata": {},
   "outputs": [
    {
     "data": {
      "text/plain": [
       "<matplotlib.axes._subplots.AxesSubplot at 0x12b7c5128>"
      ]
     },
     "execution_count": 67,
     "metadata": {},
     "output_type": "execute_result"
    },
    {
     "data": {
      "image/png": "[encoded data removed]",
      "text/plain": [
       "<Figure size 864x576 with 1 Axes>"
      ]
     },
     "metadata": {
      "needs_background": "light"
     },
     "output_type": "display_data"
    }
   ],
   "source": [
    "logistic_top_scores = sorted(logistic_feature_importance, \n",
    "                             key=logistic_feature_importance.get, \n",
    "                             reverse=True)\n",
    "\n",
    "logistic_x = []\n",
    "logistic_y = []\n",
    "for col in logistic_top_scores[:5] + logistic_top_scores[-5:]:\n",
    "    logistic_x.append(col)\n",
    "    logistic_y.append(logistic_feature_importance[col])\n",
    "\n",
    "plt.figure(figsize=(12, 8))\n",
    "sns.barplot(x=logistic_x, y=logistic_y)"
   ]
  },
  {
   "cell_type": "code",
   "execution_count": 68,
   "metadata": {},
   "outputs": [
    {
     "name": "stdout",
     "output_type": "stream",
     "text": [
      "True\n"
     ]
    }
   ],
   "source": [
    "lin_svc = svm_grid.best_estimator_.named_steps['linearsvc']\n",
    "svm_coefficients = lin_svc.coef_.flatten().tolist()\n",
    "\n",
    "col_trans = svm_grid.best_estimator_.named_steps['columntransformer']\n",
    "svm_ohe = col_trans.transformers_[1][1].steps[1][1].get_feature_names().tolist()\n",
    "\n",
    "svm_feature_names = continuous + svm_ohe\n",
    "print(len(svm_feature_names) == len(svm_coefficients))\n",
    "\n",
    "svm_feature_importance = dict(zip(svm_feature_names, svm_coefficients))\n",
    "\n"
   ]
  },
  {
   "cell_type": "code",
   "execution_count": 69,
   "metadata": {},
   "outputs": [
    {
     "data": {
      "text/plain": [
       "<matplotlib.axes._subplots.AxesSubplot at 0x12b52b518>"
      ]
     },
     "execution_count": 69,
     "metadata": {},
     "output_type": "execute_result"
    },
    {
     "data": {
      "image/png": "[encoded data removed]",
      "text/plain": [
       "<Figure size 864x576 with 1 Axes>"
      ]
     },
     "metadata": {
      "needs_background": "light"
     },
     "output_type": "display_data"
    }
   ],
   "source": [
    "svm_top_scores = sorted(svm_feature_importance, \n",
    "                        key=svm_feature_importance.get, \n",
    "                        reverse=True)\n",
    "\n",
    "svm_x = []\n",
    "svm_y = []\n",
    "for col in svm_top_scores[:5] + svm_top_scores[-5:]:\n",
    "    svm_x.append(col)\n",
    "    svm_y.append(svm_feature_importance[col])\n",
    "\n",
    "plt.figure(figsize=(12, 8))\n",
    "sns.barplot(x=svm_x, y=svm_y)"
   ]
  },
  {
   "cell_type": "code",
   "execution_count": null,
   "metadata": {},
   "outputs": [],
   "source": []
  }
 ],
 "metadata": {
  "kernelspec": {
   "display_name": "Homework2",
   "language": "python",
   "name": "homework-2-basilvetas-i55l4t7m"
  },
  "language_info": {
   "codemirror_mode": {
    "name": "ipython",
    "version": 3
   },
   "file_extension": ".py",
   "mimetype": "text/x-python",
   "name": "python",
   "nbconvert_exporter": "python",
   "pygments_lexer": "ipython3",
   "version": "3.7.2"
  }
 },
 "nbformat": 4,
 "nbformat_minor": 2
}
